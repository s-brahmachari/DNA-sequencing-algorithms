{
 "cells": [
  {
   "cell_type": "code",
   "execution_count": 2,
   "metadata": {},
   "outputs": [],
   "source": [
    "import bisect\n",
    "from typing import List, Tuple\n",
    "import itertools\n",
    "from BoyerMoore import BoyerMoore\n",
    "from Index_objects import Index, SubseqIndex, queryIndex, querySubseqIndex"
   ]
  },
  {
   "attachments": {},
   "cell_type": "markdown",
   "metadata": {},
   "source": [
    "### Utilities"
   ]
  },
  {
   "cell_type": "code",
   "execution_count": 2,
   "metadata": {},
   "outputs": [],
   "source": [
    "def readFasta(filename: str) -> str:\n",
    "    '''\n",
    "    Reads fasta files\n",
    "    Input: fasta filename \n",
    "    Output: the sequence as a string\n",
    "    '''\n",
    "    genome = ''\n",
    "    with open(filename, 'r') as f:\n",
    "        for line in f:\n",
    "            if not line.startswith('>'):\n",
    "                genome += line.strip()\n",
    "    return genome\n",
    "\n",
    "def readFastq(filename: str) -> Tuple[List[str], List[str]]:\n",
    "    '''\n",
    "    Reads fastq files\n",
    "    Input: fastq filename\n",
    "    Output:\n",
    "        -- the sequence as a string\n",
    "        -- the associated qualities of base calls\n",
    "    '''\n",
    "    sequences = []\n",
    "    qualities = []\n",
    "    with open(filename) as fh:\n",
    "        for i, line in enumerate(fh):\n",
    "            if i % 4 == 1:\n",
    "                sequences.append(line.strip())\n",
    "            elif i % 4 == 3:\n",
    "                qualities.append(line.strip())\n",
    "    return sequences, qualities\n",
    "\n",
    "def reverseComplement(s: str) -> str:\n",
    "    '''\n",
    "    Gives the reverse complement of a pattern\n",
    "    Input: s, string\n",
    "    Output: reverse complement of string\n",
    "    '''\n",
    "    complement = {'A': 'T', 'C': 'G', 'G': 'C', 'T': 'A', 'N': 'N'}\n",
    "    t = ''\n",
    "    for base in s:\n",
    "        t = complement[base] + t\n",
    "    return t\n",
    "\n",
    "def phred33toQ(qual: str) -> int: \n",
    "    '''\n",
    "    Conversion of quality scores to numerical values\n",
    "    Input: qual, ascii char\n",
    "    Output: numerical value of quality\n",
    "    '''\n",
    "    return ord(qual)-33"
   ]
  },
  {
   "attachments": {},
   "cell_type": "markdown",
   "metadata": {},
   "source": [
    "### Read alignment (pattern matching) algorithms"
   ]
  },
  {
   "attachments": {},
   "cell_type": "markdown",
   "metadata": {},
   "source": [
    "#### $\\circ$ Naive (brute force) methods"
   ]
  },
  {
   "cell_type": "code",
   "execution_count": 3,
   "metadata": {},
   "outputs": [],
   "source": [
    "def naive_exact(p: str, t: str) -> List[int]:\n",
    "    '''\n",
    "    Naive brute-force method for exact matching of pattern p with text t.\n",
    "    Compares the p to every offset in the t.\n",
    "    Input: p and t\n",
    "    Output: offsets for the occurrences of p within t\n",
    "    '''\n",
    "    occurrences = []\n",
    "    for i in range(len(t) - len(p) + 1):    # loop over alignments\n",
    "        match = True\n",
    "        for j, char in enumerate(p):    # loop over characters\n",
    "            if t[i+j] != char:          # compare characters\n",
    "                match = False\n",
    "                break\n",
    "        if match:\n",
    "            occurrences.append(i)       # all chars matched; record\n",
    "    return occurrences\n",
    "\n",
    "\n",
    "def naive_n_mm(p: str, t: str, n: int) -> List[int]:\n",
    "    '''\n",
    "    Naive brute-force method for matching of pattern p with text t allowing for n mismatches.\n",
    "    Compares the p to every offset in the t.\n",
    "    Input: p, t, and n\n",
    "    Output: offsets for the occurrences of p within t allowing n mismatches\n",
    "    '''\n",
    "    occurrences = []\n",
    "\n",
    "    for i in range(len(t) - len(p) + 1):  # loop over alignments\n",
    "        match = True\n",
    "        mm=0\n",
    "        for j in range(len(p)):  # loop over characters\n",
    "            if t[i+j] != p[j]:  # compare characters\n",
    "                mm+=1\n",
    "                if mm>n:\n",
    "                    match=False\n",
    "                    break\n",
    "        if match:\n",
    "            occurrences.append(i)  # all chars matched; record\n",
    "    return occurrences\n",
    "\n",
    "def naive_exact_rc(p: str, t: str) -> List[int]:\n",
    "    '''\n",
    "    Naive brute-force method for exact matching of pattern p or its reverse complement with text t.\n",
    "    Compares the p to every offset in the t.\n",
    "    Input: p, t\n",
    "    Output: offsets for the occurrences of p or its reverse complement within t\n",
    "    '''\n",
    "    occurrences = naive_exact(p,t)\n",
    "    p_rc=reverseComplement(p)\n",
    "    if p!=p_rc:\n",
    "        occurrences.extend(naive_exact(p_rc,t))\n",
    "    return occurrences\n"
   ]
  },
  {
   "attachments": {},
   "cell_type": "markdown",
   "metadata": {},
   "source": [
    "#### $\\circ$ Boyer-Moore algorithm -- exact matching"
   ]
  },
  {
   "cell_type": "code",
   "execution_count": 7,
   "metadata": {},
   "outputs": [],
   "source": [
    "def boyer_moore_exact_matching(pattern: str, p_bm: object, text: str) -> List[int]:\n",
    "    \"\"\"\n",
    "    Boyer-Moore exact matching of pattern p with text t.\n",
    "    Use both good suffix and bad character rules to get the best skip distance\n",
    "    Inputs: pattern=pattern, text=text, p_bm=BoyerMoore object for pattern\n",
    "    Output: offsets for occurrences of pattern in text\n",
    "    \"\"\"\n",
    "    occurrences = []\n",
    "    i = 0\n",
    "    while i < len(text) - len(pattern) + 1:\n",
    "        shift = 1\n",
    "        mismatched = False\n",
    "        for j in range(len(pattern) - 1, -1, -1):\n",
    "            if pattern[j] != text[i + j]:\n",
    "                skip_bc = p_bm.bad_character_rule(j, text[i + j])\n",
    "                skip_gs = p_bm.good_suffix_rule(j)\n",
    "                shift = max(shift, skip_bc, skip_gs)\n",
    "                mismatched = True\n",
    "                break\n",
    "        if not mismatched:\n",
    "            occurrences"
   ]
  },
  {
   "attachments": {},
   "cell_type": "markdown",
   "metadata": {},
   "source": [
    "#### $\\circ$ Approximate matching"
   ]
  },
  {
   "cell_type": "code",
   "execution_count": 45,
   "metadata": {},
   "outputs": [],
   "source": [
    "def approximate_matching(pattern, text, n, method='SubStringIndex'):\n",
    "    ''' \n",
    "    Approximate matching of pattern with text, allowing n mismatches.\n",
    "    Uses Boyer-Moore for the exact matching part.\n",
    "    Returns offsets for occurrence of approximate matches of pattern in text.\n",
    "    '''\n",
    "    segment_len = len(pattern) // (n + 1)\n",
    "    all_matches = set()\n",
    "    total_hits = 0\n",
    "    for i in range(n + 1):\n",
    "        start = i * segment_len\n",
    "        end = min((i + 1) * segment_len, len(pattern))\n",
    "\n",
    "        if method == 'BoyerMoore':\n",
    "            pattern_bm = BoyerMoore(pattern[start:end])\n",
    "            matches = boyer_moore_exact_matching(pattern[start:end], pattern_bm, text)\n",
    "        elif method == 'SubStringIndex':\n",
    "            k = end - start\n",
    "            text_ind = Index(text, k)\n",
    "            matches = queryIndex(pattern[start:end], text, text_ind)\n",
    "        elif method == 'SubSeqIndex':\n",
    "            k = end - start\n",
    "            text_ind = SubseqIndex(text, k, 3)\n",
    "            matches = querySubseqIndex(pattern[start:end], text, text_ind)\n",
    "        \n",
    "        else: \n",
    "            raise Exception('Not a valid method!')\n",
    "        \n",
    "        total_hits += len(matches)\n",
    "        for m in matches:\n",
    "            if m < start or m - start + len(pattern) > len(text):\n",
    "                continue\n",
    "            mismatches = 0\n",
    "            for j in range(0, start):\n",
    "                if pattern[j] != text[m - start + j]:\n",
    "                    mismatches += 1 \n",
    "                    if mismatches > n:\n",
    "                        break\n",
    "            for j in range(end, len(pattern)):\n",
    "                if pattern[j] != text[m - start + j]:\n",
    "                    mismatches += 1 \n",
    "                    if mismatches > n:\n",
    "                        break\n",
    "            if mismatches <= n:\n",
    "                all_matches.add(m - start)\n",
    "    print('total hits: ', total_hits)\n",
    "    return list(all_matches)\n"
   ]
  },
  {
   "attachments": {},
   "cell_type": "markdown",
   "metadata": {},
   "source": [
    "#### $\\circ$ Edit Distance"
   ]
  },
  {
   "cell_type": "code",
   "execution_count": 9,
   "metadata": {},
   "outputs": [],
   "source": [
    "def editDist_xy(x, y):\n",
    "    ''' \n",
    "    Find edit distance between patterns x and y\n",
    "    Returns the edit distance.\n",
    "    '''\n",
    "    # Create distance matrix\n",
    "    D = []\n",
    "    for i in range(len(x)+1):\n",
    "        D.append([0]*(len(y)+1))\n",
    "    # Initialize first row and column of matrix\n",
    "    for i in range(len(x)+1):\n",
    "        D[i][0] = i\n",
    "    for i in range(len(y)+1):\n",
    "        D[0][i] = i\n",
    "    # Fill in the rest of the matrix\n",
    "    for i in range(1, len(x)+1):\n",
    "        for j in range(1, len(y)+1):\n",
    "            distHor = D[i][j-1] + 1\n",
    "            distVer = D[i-1][j] + 1\n",
    "            if x[i-1] == y[j-1]:\n",
    "                distDiag = D[i-1][j-1]\n",
    "            else:\n",
    "                distDiag = D[i-1][j-1] + 1\n",
    "            D[i][j] = min(distHor, distVer, distDiag)\n",
    "    # Edit distance is the value in the bottom right corner of the matrix\n",
    "    return D[-1][-1]\n",
    "\n",
    "def editDist_min(p, t):\n",
    "    ''' \n",
    "    Find edit distance between the pattern p and the best match of pattern p within t\n",
    "    Returns the edit distance.\n",
    "    '''\n",
    "    # Create distance matrix: row x column = (p+1) x t\n",
    "    D = []\n",
    "    for i in range(len(p)+1):\n",
    "        D.append([0]*(len(t)+1))\n",
    "    # Initialize first row and column of matrix\n",
    "    for i in range(len(p)+1):\n",
    "        # Distance between empty string and a pattern is equal to the pattern size\n",
    "        D[i][0] = i\n",
    "    \n",
    "    # Set first row to zero: we consider all possible offsets\n",
    "    # since we want to find the best match of p in t\n",
    "    for i in range(len(t)+1):\n",
    "        D[0][i] = 0\n",
    "\n",
    "    # Fill in the rest of the matrix\n",
    "    for i in range(1, len(p)+1):\n",
    "        for j in range(1, len(t)+1):\n",
    "            distHor = D[i][j-1] + 1\n",
    "            distVer = D[i-1][j] + 1\n",
    "            if p[i-1] == t[j-1]:\n",
    "                distDiag = D[i-1][j-1]\n",
    "            else:\n",
    "                distDiag = D[i-1][j-1] + 1\n",
    "            D[i][j] = min(distHor, distVer, distDiag)\n",
    "\n",
    "    # Edit distance is the min value in the bottom row of the matrix\n",
    "    return min(D[-1][:])\n"
   ]
  },
  {
   "attachments": {},
   "cell_type": "markdown",
   "metadata": {},
   "source": [
    "### Assembly algorithms"
   ]
  },
  {
   "cell_type": "code",
   "execution_count": 108,
   "metadata": {},
   "outputs": [],
   "source": [
    "def get_kmers(read, k):\n",
    "    kmers = []\n",
    "    for i in range(len(read) - k + 1):  # for each k-mer\n",
    "        kmers.append(read[i:i+k])\n",
    "    return kmers\n",
    "\n",
    "class index(object):\n",
    "    def __init__(self):\n",
    "        self.dct={}\n",
    "\n",
    "    def get_dct(self):\n",
    "        return self.dct\n",
    "        \n",
    "    def add_read(self, read, k):\n",
    "        kmers = get_kmers(read, k)\n",
    "        for kmer in kmers:  # for each k-mer\n",
    "            if kmer in self.dct:\n",
    "                self.dct[kmer].add(read)\n",
    "            else:\n",
    "                self.dct[kmer]=set([read]) \n",
    "    \n",
    "\n",
    "def overlap(a, b, min_length=3):\n",
    "    \"\"\" Return length of longest suffix of 'a' matching\n",
    "        a prefix of 'b' that is at least 'min_length'\n",
    "        characters long.  If no such overlap exists,\n",
    "        return 0. \n",
    "    \"\"\"\n",
    "    start = 0  # start all the way at the left\n",
    "    while True:\n",
    "        start = a.find(b[:min_length], start)  # look for b's prefix in a\n",
    "        if start == -1:  # no more occurrences to right\n",
    "            return 0\n",
    "        # found occurrence; check for full suffix/prefix match\n",
    "        if b.startswith(a[start:]):\n",
    "            return len(a)-start\n",
    "        start += 1  # move just past previous match\n",
    "\n",
    "def scs(ss):\n",
    "    \"\"\" Returns shortest common superstring of given\n",
    "        strings, which must be the same length \"\"\"\n",
    "    shortest_sup = None\n",
    "    shortest_sup_lst = []\n",
    "    for ssperm in itertools.permutations(ss):\n",
    "        sup = ssperm[0]  # superstring starts as first string\n",
    "        for i in range(len(ss)-1):\n",
    "            # overlap adjacent strings A and B in the permutation\n",
    "            olen = overlap(ssperm[i], ssperm[i+1], min_length=1)\n",
    "            # add non-overlapping portion of B to superstring\n",
    "            sup += ssperm[i+1][olen:]\n",
    "        if shortest_sup is None or len(sup) <= len(shortest_sup):\n",
    "            shortest_sup = sup  # found shorter superstring\n",
    "            shortest_sup_lst.append(sup)\n",
    "    return shortest_sup_lst  # return shortest\n",
    "\n",
    "\n",
    "def pick_max_overlap(reads, k):\n",
    "    reada, readb = None, None\n",
    "    best_olen = 0\n",
    "    for a, b in itertools.permutations(reads,2):\n",
    "        olen = overlap(a, b, min_length=k)\n",
    "        if olen>best_olen:\n",
    "            reada, readb, best_olen = a, b, olen\n",
    "    return reada, readb, best_olen\n",
    "\n",
    "def greedy_scs(reads, k):\n",
    "    reada, readb, olen = pick_max_overlap(reads, k)\n",
    "    while olen>0:\n",
    "        print(reada, readb, reads)\n",
    "        reads.remove(reada)\n",
    "        reads.remove(readb)\n",
    "        reads.append(reada+readb[olen:])\n",
    "        reada, readb, olen = pick_max_overlap(reads, k)\n",
    "    return ''.join(reads)\n",
    "\n",
    "def pick_max_overlap_index(reads, k):\n",
    "    ind = index()\n",
    "    for read in reads:\n",
    "        ind.add_read(read,k)\n",
    "    kmer_dct = ind.get_dct()   \n",
    "    reada, readb = None, None\n",
    "    best_olen = 0\n",
    "    for read in reads:\n",
    "        read_suffix = read[-k:]\n",
    "        for matched_read in kmer_dct[read_suffix]:\n",
    "            if matched_read != read:\n",
    "                olen = overlap(read, matched_read, k)\n",
    "                if olen>best_olen:\n",
    "                    best_olen = olen \n",
    "                    reada, readb = read, matched_read\n",
    "    return reada, readb, best_olen\n",
    "\n",
    "def greedy_scs_using_index(reads, k):\n",
    "    reada, readb, olen = pick_max_overlap_index(reads, k)\n",
    "    while olen>0:\n",
    "        # print(reada, readb, reads,olen)\n",
    "        reads.remove(reada)\n",
    "        reads.remove(readb)\n",
    "        reads.append(reada+readb[olen:])\n",
    "        reada, readb, olen = pick_max_overlap_index(reads, k)\n",
    "        # print(reada, readb, reads,olen)\n",
    "    return ''.join(reads)"
   ]
  },
  {
   "attachments": {},
   "cell_type": "markdown",
   "metadata": {},
   "source": [
    "### Tests"
   ]
  },
  {
   "cell_type": "code",
   "execution_count": 11,
   "metadata": {},
   "outputs": [],
   "source": [
    "data=readFasta('./chr1.GRCh38.excerpt.fasta')\n",
    "# print(data)"
   ]
  },
  {
   "cell_type": "code",
   "execution_count": 12,
   "metadata": {},
   "outputs": [
    {
     "name": "stdout",
     "output_type": "stream",
     "text": [
      "2\n"
     ]
    }
   ],
   "source": [
    "print(editDist_min('GATTTACCAGATTGAG',data))"
   ]
  },
  {
   "cell_type": "code",
   "execution_count": 13,
   "metadata": {},
   "outputs": [
    {
     "name": "stdout",
     "output_type": "stream",
     "text": [
      "100\n"
     ]
    }
   ],
   "source": [
    "seq,qual = readFastq('./ERR266411_1.for_asm.fastq')\n",
    "\n",
    "print(len(seq[0]))"
   ]
  },
  {
   "cell_type": "code",
   "execution_count": 14,
   "metadata": {},
   "outputs": [
    {
     "name": "stdout",
     "output_type": "stream",
     "text": [
      "108344\n",
      "904746 7161\n"
     ]
    }
   ],
   "source": [
    "# Count read pairs from overlap using a k-mer index\n",
    "\n",
    "ind = index()\n",
    "\n",
    "for read in seq:\n",
    "    ind.add_read(read,30)\n",
    "\n",
    "print(len(ind.dct.keys()))\n",
    "kmer_dct = ind.get_dct()\n",
    "\n",
    "read_pairs=0\n",
    "num_reads_with_overlap = 0\n",
    "for read in seq:\n",
    "    read_suffix = read[-30:]\n",
    "    i = 0\n",
    "    # print(len(read_suffix))\n",
    "    for matched_read in kmer_dct[read_suffix]:\n",
    "        # print(read,'\\n',matched_read,'\\n',read_suffix)\n",
    "        if matched_read != read:\n",
    "            ov = overlap(read, matched_read, 30)\n",
    "            # print(ov)\n",
    "            if ov>=30: \n",
    "                read_pairs += 1 #.append((read,matched_read))\n",
    "                i = 1\n",
    "    num_reads_with_overlap += i\n",
    "        \n",
    "\n",
    "print(read_pairs, num_reads_with_overlap)\n"
   ]
  },
  {
   "cell_type": "code",
   "execution_count": 15,
   "metadata": {},
   "outputs": [
    {
     "data": {
      "text/plain": [
       "4"
      ]
     },
     "execution_count": 15,
     "metadata": {},
     "output_type": "execute_result"
    }
   ],
   "source": [
    "overlap('ATGCAAT','CAATCCC',2)"
   ]
  },
  {
   "cell_type": "code",
   "execution_count": 106,
   "metadata": {},
   "outputs": [
    {
     "name": "stdout",
     "output_type": "stream",
     "text": [
      "CAT ATT ['CAT', 'CTT', 'TGC', 'TGG', 'GAT', 'ATT'] 2\n",
      "None None ['CTT', 'TGC', 'TGG', 'GAT', 'CATT'] 0\n",
      "CTTTGCTGGGATCATT 16\n"
     ]
    }
   ],
   "source": [
    "# sups=greedy_scs(['CAT', 'CTT', 'TGC', 'TGG', 'GAT', 'ATT'],2)\n",
    "sups=greedy_scs_using_index(['CAT', 'CTT', 'TGC', 'TGG', 'GAT', 'ATT'],2)\n",
    "# for val in sups: print(len(val))\n",
    "print(sups, len(sups))"
   ]
  },
  {
   "cell_type": "code",
   "execution_count": null,
   "metadata": {},
   "outputs": [],
   "source": [
    "sequences,qualities=readFastq('./ERR037900_1.first1000.fastq')"
   ]
  },
  {
   "cell_type": "code",
   "execution_count": null,
   "metadata": {},
   "outputs": [
    {
     "data": {
      "text/plain": [
       "2"
      ]
     },
     "execution_count": 40,
     "metadata": {},
     "output_type": "execute_result"
    }
   ],
   "source": [
    "[phred33toQ(xx) for xx in qualities[0]]\n"
   ]
  },
  {
   "cell_type": "code",
   "execution_count": null,
   "metadata": {},
   "outputs": [],
   "source": [
    "qcvals=[0]*100\n",
    "\n",
    "for i in range(len(sequences)):\n",
    "    for j in range(len(sequences[i])):\n",
    "        qcvals[j] += phred33toQ(qualities[i][j])"
   ]
  },
  {
   "cell_type": "code",
   "execution_count": null,
   "metadata": {},
   "outputs": [
    {
     "name": "stdout",
     "output_type": "stream",
     "text": [
      "[66]\n"
     ]
    }
   ],
   "source": [
    "print([x for x in range(len(qcvals)) if qcvals[x]==min(qcvals)])"
   ]
  },
  {
   "cell_type": "code",
   "execution_count": 115,
   "metadata": {},
   "outputs": [
    {
     "name": "stdout",
     "output_type": "stream",
     "text": [
      "100\n"
     ]
    }
   ],
   "source": [
    "seqs, quals = readFastq('./ads1_week4_reads.fq')\n",
    "print(len(quals[0]))"
   ]
  },
  {
   "cell_type": "code",
   "execution_count": 116,
   "metadata": {},
   "outputs": [
    {
     "name": "stdout",
     "output_type": "stream",
     "text": [
      "15894\n"
     ]
    }
   ],
   "source": [
    "assembled_genome = greedy_scs_using_index(seqs, 5)\n",
    "print(len(assembled_genome))"
   ]
  },
  {
   "cell_type": "code",
   "execution_count": 120,
   "metadata": {},
   "outputs": [
    {
     "name": "stdout",
     "output_type": "stream",
     "text": [
      "4633 3723\n",
      "4633 3723\n"
     ]
    }
   ],
   "source": [
    "As=0\n",
    "Ts=0\n",
    "for val in assembled_genome:\n",
    "    if val=='A': As+=1\n",
    "    elif val=='T': Ts+=1\n",
    "print(As, Ts)\n",
    "\n",
    "print(len(assembled_genome.split('A'))-1, len(assembled_genome.split('T'))-1)\n",
    "\n"
   ]
  },
  {
   "cell_type": "code",
   "execution_count": null,
   "metadata": {},
   "outputs": [],
   "source": [
    "pattern='GGCGCGGTGGCTCACGCCTGTAATCCCAGCACTTTGGGAGGCCGAGG'\n",
    "\n",
    "p_bm=BoyerMoore(pattern)"
   ]
  },
  {
   "cell_type": "code",
   "execution_count": null,
   "metadata": {},
   "outputs": [],
   "source": [
    "occ_bm,num_bm=boyer_moore(pattern,p_bm, data)"
   ]
  },
  {
   "cell_type": "code",
   "execution_count": null,
   "metadata": {},
   "outputs": [
    {
     "name": "stdout",
     "output_type": "stream",
     "text": [
      "19\n"
     ]
    }
   ],
   "source": [
    "bm_matches = approximate_matching_bm('GGCGCGGTGGCTCACGCCTGTAAT', data, 2)\n",
    "print(len(bm_matches))"
   ]
  },
  {
   "cell_type": "code",
   "execution_count": null,
   "metadata": {},
   "outputs": [
    {
     "name": "stdout",
     "output_type": "stream",
     "text": [
      "32\n"
     ]
    }
   ],
   "source": [
    "ind_matches = approximate_matching_index('GGCGCGGTGGCTCACGCCTGTAAT', data, 2, 4)\n",
    "print(len(ind_matches))"
   ]
  },
  {
   "cell_type": "code",
   "execution_count": null,
   "metadata": {},
   "outputs": [
    {
     "name": "stdout",
     "output_type": "stream",
     "text": [
      "799977\n"
     ]
    }
   ],
   "source": [
    "naive_matches=naive('GGCGCGGTGGCTCACGCCTGTAAT',data)\n",
    "print(naive_matches[1])"
   ]
  },
  {
   "cell_type": "code",
   "execution_count": null,
   "metadata": {},
   "outputs": [
    {
     "name": "stdout",
     "output_type": "stream",
     "text": [
      "total hits:  90\n",
      "19\n"
     ]
    }
   ],
   "source": [
    "bm=approximate_matching_bm('GGCGCGGTGGCTCACGCCTGTAAT',data, 2)\n",
    "print(len(bm))"
   ]
  },
  {
   "cell_type": "code",
   "execution_count": null,
   "metadata": {},
   "outputs": [
    {
     "name": "stdout",
     "output_type": "stream",
     "text": [
      "total hits:  90\n",
      "19\n"
     ]
    }
   ],
   "source": [
    "indx=approximate_matching_index('GGCGCGGTGGCTCACGCCTGTAAT',data, 2)\n",
    "print(len(indx))"
   ]
  },
  {
   "cell_type": "code",
   "execution_count": null,
   "metadata": {},
   "outputs": [
    {
     "name": "stdout",
     "output_type": "stream",
     "text": [
      "total hits:  0\n"
     ]
    }
   ],
   "source": [
    "subseq_ind = approximate_matching_SubseqIndex('GGCGCGGTGGCTCACGCCTGTAAT',data, 2)"
   ]
  },
  {
   "cell_type": "code",
   "execution_count": null,
   "metadata": {},
   "outputs": [
    {
     "name": "stdout",
     "output_type": "stream",
     "text": [
      "11\n"
     ]
    }
   ],
   "source": [
    "print(editDistance('TATTGGCTATACGGTT', 'GCGTATGC'))"
   ]
  },
  {
   "cell_type": "code",
   "execution_count": null,
   "metadata": {},
   "outputs": [],
   "source": [
    "a=set([2,4,5,3,4,5])"
   ]
  },
  {
   "cell_type": "code",
   "execution_count": null,
   "metadata": {},
   "outputs": [
    {
     "data": {
      "text/plain": [
       "{2, 3, 4, 5, 8}"
      ]
     },
     "execution_count": 197,
     "metadata": {},
     "output_type": "execute_result"
    }
   ],
   "source": [
    "a.add(3)\n",
    "a"
   ]
  },
  {
   "cell_type": "code",
   "execution_count": 48,
   "metadata": {},
   "outputs": [
    {
     "name": "stdout",
     "output_type": "stream",
     "text": [
      "total hits:  54\n",
      "8\n"
     ]
    }
   ],
   "source": [
    "p=approximate_matching('AGTATCGCCT','AGTCATGGATAGGATGGGCCCAAATAC', 7, method='SubStringIndex') #SubSeqIndex\n",
    "print(len(p))"
   ]
  },
  {
   "cell_type": "code",
   "execution_count": null,
   "metadata": {},
   "outputs": [],
   "source": []
  },
  {
   "cell_type": "code",
   "execution_count": null,
   "metadata": {},
   "outputs": [],
   "source": []
  }
 ],
 "metadata": {
  "kernelspec": {
   "display_name": "mlp",
   "language": "python",
   "name": "python3"
  },
  "language_info": {
   "codemirror_mode": {
    "name": "ipython",
    "version": 3
   },
   "file_extension": ".py",
   "mimetype": "text/x-python",
   "name": "python",
   "nbconvert_exporter": "python",
   "pygments_lexer": "ipython3",
   "version": "3.8.13"
  },
  "orig_nbformat": 4,
  "vscode": {
   "interpreter": {
    "hash": "4976e0179d97dd6d59b1329a76e601e17b789c2571b41c8b57f5fd69821c0dd3"
   }
  }
 },
 "nbformat": 4,
 "nbformat_minor": 2
}
